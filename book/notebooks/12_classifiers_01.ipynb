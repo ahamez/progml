{
 "cells": [
  {
   "cell_type": "markdown",
   "metadata": {},
   "source": [
    "# Chapter 12: How Classifiers Work (1 of 2)"
   ]
  },
  {
   "cell_type": "markdown",
   "metadata": {},
   "source": [
    "The source code for this chapter is split over two notebooks. This is the first one, about the decision boundary and the model of perceptrons."
   ]
  },
  {
   "cell_type": "markdown",
   "metadata": {},
   "source": [
    "## Perceptron"
   ]
  },
  {
   "cell_type": "code",
   "execution_count": null,
   "metadata": {},
   "outputs": [],
   "source": [
    "import numpy as np\n",
    "\n",
    "\n",
    "def sigmoid(z):\n",
    "    return 1 / (1 + np.exp(-z))\n",
    "\n",
    "\n",
    "def forward(X, w):\n",
    "    weighted_sum = np.matmul(X, w)\n",
    "    return sigmoid(weighted_sum)\n",
    "\n",
    "\n",
    "def classify(X, w):\n",
    "    y_hat = forward(X, w)\n",
    "    labels = np.argmax(y_hat, axis=1)\n",
    "    return labels.reshape(-1, 1)\n",
    "\n",
    "\n",
    "def loss(X, Y, w):\n",
    "    y_hat = forward(X, w)\n",
    "    first_term = Y * np.log(y_hat)\n",
    "    second_term = (1 - Y) * np.log(1 - y_hat)\n",
    "    return -np.sum(first_term + second_term) / X.shape[0]\n",
    "\n",
    "\n",
    "def gradient(X, Y, w):\n",
    "    return np.matmul(X.T, (forward(X, w) - Y)) / X.shape[0]\n",
    "\n",
    "\n",
    "def report(iteration, X_train, Y_train, X_test, Y_test, w):\n",
    "    matches = np.count_nonzero(classify(X_test, w) == Y_test)\n",
    "    n_test_examples = Y_test.shape[0]\n",
    "    matches = matches * 100.0 / n_test_examples\n",
    "    training_loss = loss(X_train, Y_train, w)\n",
    "    print(\"%d - Loss: %.20f, %.2f%%\" % (iteration, training_loss, matches))\n",
    "\n",
    "\n",
    "def train(X_train, Y_train, X_test, Y_test, iterations, lr):\n",
    "    w = np.zeros((X_train.shape[1], Y_train.shape[1]))\n",
    "    for iteration in range(iterations):\n",
    "        report(iteration, X_train, Y_train, X_test, Y_test, w)\n",
    "        w -= gradient(X_train, Y_train, w) * lr\n",
    "    report(iteration, X_train, Y_train, X_test, Y_test, w)\n",
    "    return w"
   ]
  },
  {
   "cell_type": "markdown",
   "metadata": {},
   "source": [
    "## Load Data"
   ]
  },
  {
   "cell_type": "markdown",
   "metadata": {},
   "source": [
    "Execute one of the next three cells, to load one of the three datasets."
   ]
  },
  {
   "cell_type": "code",
   "execution_count": null,
   "metadata": {},
   "outputs": [],
   "source": [
    "x1, x2, y = np.loadtxt('linearly_separable.txt', skiprows=1, unpack=True)"
   ]
  },
  {
   "cell_type": "code",
   "execution_count": null,
   "metadata": {},
   "outputs": [],
   "source": [
    "x1, x2, y = np.loadtxt('non_linearly_separable.txt', skiprows=1, unpack=True)"
   ]
  },
  {
   "cell_type": "code",
   "execution_count": null,
   "metadata": {},
   "outputs": [],
   "source": [
    "x1, x2, y = np.loadtxt('circles.txt', skiprows=1, unpack=True)"
   ]
  },
  {
   "cell_type": "markdown",
   "metadata": {},
   "source": [
    "## Train Perceptron"
   ]
  },
  {
   "cell_type": "code",
   "execution_count": null,
   "metadata": {},
   "outputs": [],
   "source": [
    "def prepend_bias(X):\n",
    "    return np.insert(X, 0, 1, axis=1)\n",
    "\n",
    "\n",
    "def one_hot_encode(Y):\n",
    "    n_labels = Y.shape[0]\n",
    "    result = np.zeros((n_labels, 2))\n",
    "    for i in range(n_labels):\n",
    "        result[i][Y[i]] = 1\n",
    "    return result\n",
    "\n",
    "\n",
    "X_train = X_test = prepend_bias(np.column_stack((x1, x2)))\n",
    "Y_train_unencoded = Y_test = y.astype(int).reshape(-1, 1)\n",
    "Y_train = one_hot_encode(Y_train_unencoded)\n",
    "w = train(X_train, Y_train,\n",
    "          X_test, Y_test,\n",
    "          iterations=10000, lr=0.1)"
   ]
  },
  {
   "cell_type": "markdown",
   "metadata": {},
   "source": [
    "# Plot Decision Boundary"
   ]
  },
  {
   "cell_type": "code",
   "execution_count": null,
   "metadata": {},
   "outputs": [],
   "source": [
    "%matplotlib inline\n",
    "\n",
    "import matplotlib.pyplot as plt\n",
    "from matplotlib.colors import ListedColormap\n",
    "\n",
    "# Generate a mesh over one-dimensional data\n",
    "# (The mesh() and plot_boundary() functionality were inspired by the\n",
    "# documentation of the BSD-licensed scikit-learn library.)\n",
    "def mesh(values):\n",
    "    range = values.max() - values.min()\n",
    "    padding_percent = 5\n",
    "    padding = range * padding_percent * 0.01\n",
    "    resolution = 1000\n",
    "    interval = (range + 2 * range * padding) / resolution\n",
    "    return np.arange(values.min() - padding, values.max() + padding, interval)\n",
    "\n",
    "\n",
    "def plot_boundary(points, w):\n",
    "    print(\"Calculating boundary...\")\n",
    "    # Generate a grid of points over the data\n",
    "    x_mesh = mesh(points[:, 1])\n",
    "    y_mesh = mesh(points[:, 2])\n",
    "    grid_x, grid_y = np.meshgrid(x_mesh, y_mesh)\n",
    "    grid = np.c_[grid_x.ravel(), grid_y.ravel()]\n",
    "    # Classify points in the grid\n",
    "    classifications = classify(prepend_bias(grid), w).reshape(grid_x.shape)\n",
    "    # Trace the decision boundary\n",
    "    BLUE_AND_GREEN = ListedColormap(['#BBBBFF', '#BBFFBB'])\n",
    "    plt.contourf(grid_x, grid_y, classifications, cmap=BLUE_AND_GREEN)\n",
    "\n",
    "    \n",
    "def plot_data_by_label(input_variables, labels, label_selector, symbol):\n",
    "    points = input_variables[(labels == label_selector).flatten()]\n",
    "    plt.plot(points[:, 1], points[:, 2], symbol, markersize=4)\n",
    "    \n",
    "\n",
    "plot_boundary(X_train, w)\n",
    "plot_data_by_label(X_train, Y_train_unencoded, 0, 'bo')\n",
    "plot_data_by_label(X_train, Y_train_unencoded, 1, 'go')\n",
    "plt.gca().axes.xaxis.set_ticklabels([])\n",
    "plt.gca().axes.yaxis.set_ticklabels([])\n",
    "plt.show()"
   ]
  },
  {
   "cell_type": "markdown",
   "metadata": {},
   "source": [
    "# Plot Model"
   ]
  },
  {
   "cell_type": "code",
   "execution_count": null,
   "metadata": {},
   "outputs": [],
   "source": [
    "from matplotlib import cm\n",
    "from mpl_toolkits.mplot3d import Axes3D\n",
    "\n",
    "# Plot the axes\n",
    "ax = plt.figure().gca(projection=\"3d\")\n",
    "ax.set_zticks([0, 0.5, 1])\n",
    "ax.set_xlabel(\"Input A\")\n",
    "ax.set_ylabel(\"Input B\")\n",
    "ax.set_zlabel(\"ŷ\")\n",
    "\n",
    "# Plot the data points\n",
    "blue_squares = X_train[(Y_train_unencoded == 0).flatten()]\n",
    "ax.scatter(blue_squares[:, 1], blue_squares[:, 2], 0, c='b', marker='s')\n",
    "green_triangles = X_train[(Y_train_unencoded == 1).flatten()]\n",
    "ax.scatter(green_triangles[:, 1], green_triangles[:, 2], 1, c='g', marker='^')\n",
    "\n",
    "# Plot the model\n",
    "MARGIN = 0.5\n",
    "MESH_SIZE = 50\n",
    "x, y = np.meshgrid(np.linspace(x1.min() - MARGIN, x1.max() + MARGIN, MESH_SIZE),\n",
    "                   np.linspace(x2.min() - MARGIN, x2.max() + MARGIN, MESH_SIZE))\n",
    "grid = zip(np.ravel(x), np.ravel(y))\n",
    "z = np.array([forward(np.column_stack(([1], [i], [j])), w) for i, j in grid])\n",
    "z = z[:, :, 1].reshape((MESH_SIZE, MESH_SIZE))\n",
    "ax.plot_surface(x, y, z, alpha=0.75, cmap=cm.winter,\n",
    "                linewidth=0, antialiased=True)\n",
    "plt.show()"
   ]
  }
 ],
 "metadata": {
  "kernelspec": {
   "display_name": "Python 3",
   "language": "python",
   "name": "python3"
  },
  "language_info": {
   "codemirror_mode": {
    "name": "ipython",
    "version": 3
   },
   "file_extension": ".py",
   "mimetype": "text/x-python",
   "name": "python",
   "nbconvert_exporter": "python",
   "pygments_lexer": "ipython3",
   "version": "3.7.6"
  }
 },
 "nbformat": 4,
 "nbformat_minor": 2
}
