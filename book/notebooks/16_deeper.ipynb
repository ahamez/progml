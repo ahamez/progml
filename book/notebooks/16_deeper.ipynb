{
 "cells": [
  {
   "cell_type": "markdown",
   "metadata": {},
   "source": [
    "# Chapter 16: A Deeper Kind of Network"
   ]
  },
  {
   "cell_type": "markdown",
   "metadata": {},
   "source": [
    "## The Echidna Dataset"
   ]
  },
  {
   "cell_type": "code",
   "execution_count": null,
   "metadata": {},
   "outputs": [],
   "source": [
    "# Load Echidna dataset\n",
    "\n",
    "import os\n",
    "import numpy as np\n",
    "\n",
    "\n",
    "def load(filename):\n",
    "    data = np.loadtxt(filename, skiprows=1, unpack=True).T\n",
    "    np.random.seed(12345)\n",
    "    np.random.shuffle(data)\n",
    "    x_raw = data[:, 0:2]\n",
    "    x_min = x_raw.min(axis=0)\n",
    "    x_max = x_raw.max(axis=0)\n",
    "    # Rescale data between -0.5 and 0.5\n",
    "    x = (x_raw - x_min) / (x_max - x_min) - 0.5\n",
    "    y = data[:, 2].astype(int).reshape(-1, 1)\n",
    "    return (x, y)\n",
    "\n",
    "\n",
    "X, Y = load('./echidna.txt')\n",
    "X_train, X_validation, X_test = np.split(X, 3)\n",
    "Y_train, Y_validation, Y_test = np.split(Y, 3)"
   ]
  },
  {
   "cell_type": "code",
   "execution_count": null,
   "metadata": {},
   "outputs": [],
   "source": [
    "%matplotlib inline\n",
    "import matplotlib.pyplot as plt"
   ]
  },
  {
   "cell_type": "code",
   "execution_count": null,
   "metadata": {},
   "outputs": [],
   "source": [
    "# Plot the Echidna dataset---all of it, and then split into training,\n",
    "# validation and test sets.\n",
    "\n",
    "def plot_data_by_label(input_variables, labels, label_selector, symbol):\n",
    "    points = input_variables[(labels == label_selector).flatten()]\n",
    "    plt.plot(points[:, 0], points[:, 1], symbol, markersize=4)\n",
    "\n",
    "\n",
    "def plot_data(title, x, y):\n",
    "    RANGE = 0.55\n",
    "    plt.xlim(-RANGE, RANGE)\n",
    "    plt.ylim(-RANGE, RANGE)\n",
    "    plot_data_by_label(x, y, 0, 'bs')\n",
    "    plot_data_by_label(x, y, 1, 'g^')\n",
    "    plt.gca().axes.xaxis.set_ticklabels([])\n",
    "    plt.gca().axes.yaxis.set_ticklabels([])\n",
    "    plt.title(title)\n",
    "    plt.ion()\n",
    "    plt.show()\n",
    "\n",
    "\n",
    "plot_data(\"All data\", X, Y)\n",
    "plot_data(\"Training set\", X_train, Y_train)\n",
    "plot_data(\"Validation set\", X_validation, Y_validation)\n",
    "plot_data(\"Test set\", X_test, Y_test)"
   ]
  },
  {
   "cell_type": "markdown",
   "metadata": {},
   "source": [
    "## Building a Neural Network with Keras"
   ]
  },
  {
   "cell_type": "code",
   "execution_count": null,
   "metadata": {},
   "outputs": [],
   "source": [
    "# Plot the decision boundary of a Keras model over a bi-dimensional dataset.\n",
    "\n",
    "from matplotlib.colors import ListedColormap\n",
    "\n",
    "\n",
    "def plot_boundary(model, points):\n",
    "    # Generate a grid of points over the data\n",
    "    RANGE = 0.55\n",
    "    x_mesh = np.arange(-RANGE, RANGE, 0.001)\n",
    "    y_mesh = np.arange(-RANGE, RANGE, 0.001)\n",
    "    grid_x, grid_y = np.meshgrid(x_mesh, y_mesh)\n",
    "    grid = np.c_[grid_x.ravel(), grid_y.ravel()]\n",
    "    # Classify points in the grid\n",
    "    classifications = model.predict(grid).argmax(axis=1)\n",
    "    classifications_grid = classifications.reshape(grid_x.shape)\n",
    "    # Trace the decision boundary\n",
    "    BLUE_AND_GREEN = ListedColormap(['#BBBBFF', '#BBFFBB'])\n",
    "    plt.contourf(grid_x, grid_y, classifications_grid, cmap=BLUE_AND_GREEN)\n",
    "\n",
    "\n",
    "def plot_data_by_label(input_variables, labels, label_selector, symbol):\n",
    "    points = input_variables[(labels == label_selector).flatten()]\n",
    "    plt.plot(points[:, 0], points[:, 1], symbol, markersize=4)\n",
    "\n",
    "\n",
    "def show_boundary(model, x, y, title=\"Decision boundary\"):\n",
    "    plot_boundary(model, x)\n",
    "    plot_data_by_label(x, y, 0, 'bs')\n",
    "    plot_data_by_label(x, y, 1, 'g^')\n",
    "    plt.gca().axes.xaxis.set_ticklabels([])\n",
    "    plt.gca().axes.yaxis.set_ticklabels([])\n",
    "    plt.title(title)\n",
    "    plt.ion()\n",
    "    plt.show()"
   ]
  },
  {
   "cell_type": "code",
   "execution_count": null,
   "metadata": {},
   "outputs": [],
   "source": [
    "from keras.models import Sequential\n",
    "from keras.layers import Dense\n",
    "from keras.optimizers import RMSprop\n",
    "from keras.utils import to_categorical\n",
    "\n",
    "Y_train_one_hot_encoded = to_categorical(Y_train)\n",
    "Y_validation_one_hot_encoded = to_categorical(Y_validation)\n",
    "\n",
    "shallow_model = Sequential()\n",
    "shallow_model.add(Dense(100, activation='sigmoid'))\n",
    "shallow_model.add(Dense(2, activation='softmax'))\n",
    "\n",
    "shallow_model.compile(loss='categorical_crossentropy',\n",
    "                      optimizer=RMSprop(lr=0.001),\n",
    "                      metrics=['accuracy'])\n",
    "\n",
    "shallow_model.fit(X_train, Y_train_one_hot_encoded,\n",
    "                  validation_data=(X_validation, Y_validation_one_hot_encoded),\n",
    "                  epochs=30000, batch_size=25)"
   ]
  },
  {
   "cell_type": "code",
   "execution_count": null,
   "metadata": {
    "scrolled": true
   },
   "outputs": [],
   "source": [
    "show_boundary(shallow_model, X_train, Y_train)"
   ]
  },
  {
   "cell_type": "markdown",
   "metadata": {},
   "source": [
    "## Making it Deep"
   ]
  },
  {
   "cell_type": "code",
   "execution_count": null,
   "metadata": {},
   "outputs": [],
   "source": [
    "deep_model = Sequential()\n",
    "deep_model.add(Dense(100, activation='sigmoid'))\n",
    "deep_model.add(Dense(30, activation='sigmoid'))\n",
    "deep_model.add(Dense(2, activation='softmax'))\n",
    "\n",
    "deep_model.compile(loss='categorical_crossentropy',\n",
    "                   optimizer=RMSprop(lr=0.001),\n",
    "                   metrics=['accuracy'])\n",
    "\n",
    "deep_model.fit(X_train, Y_train_one_hot_encoded,\n",
    "               validation_data=(X_validation, Y_validation_one_hot_encoded),\n",
    "               epochs=30000, batch_size=25)"
   ]
  },
  {
   "cell_type": "code",
   "execution_count": null,
   "metadata": {},
   "outputs": [],
   "source": [
    "show_boundary(deep_model, X_train, Y_train)"
   ]
  }
 ],
 "metadata": {
  "kernelspec": {
   "display_name": "Python 3",
   "language": "python",
   "name": "python3"
  },
  "language_info": {
   "codemirror_mode": {
    "name": "ipython",
    "version": 3
   },
   "file_extension": ".py",
   "mimetype": "text/x-python",
   "name": "python",
   "nbconvert_exporter": "python",
   "pygments_lexer": "ipython3",
   "version": "3.7.3"
  }
 },
 "nbformat": 4,
 "nbformat_minor": 2
}
