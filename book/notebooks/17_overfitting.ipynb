{
 "cells": [
  {
   "cell_type": "markdown",
   "metadata": {},
   "source": [
    "# Chapter 17: Defeating Overfitting"
   ]
  },
  {
   "cell_type": "markdown",
   "metadata": {},
   "source": [
    "## Regularizing the Model"
   ]
  },
  {
   "cell_type": "markdown",
   "metadata": {},
   "source": [
    "### Reviewing the Deep Network"
   ]
  },
  {
   "cell_type": "code",
   "execution_count": null,
   "metadata": {},
   "outputs": [],
   "source": [
    "# Load Echidna dataset\n",
    "\n",
    "import os\n",
    "import numpy as np\n",
    "\n",
    "\n",
    "def load(filename):\n",
    "    data = np.loadtxt(filename, skiprows=1, unpack=True).T\n",
    "    np.random.seed(12345)\n",
    "    np.random.shuffle(data)\n",
    "    x_raw = data[:, 0:2]\n",
    "    x_min = x_raw.min(axis=0)\n",
    "    x_max = x_raw.max(axis=0)\n",
    "    # Rescale data between -0.5 and 0.5\n",
    "    x = (x_raw - x_min) / (x_max - x_min) - 0.5\n",
    "    y = data[:, 2].astype(int).reshape(-1, 1)\n",
    "    return (x, y)\n",
    "\n",
    "\n",
    "X, Y = load('./echidna.txt')\n",
    "X_train, X_validation, X_test = np.split(X, 3)\n",
    "Y_train, Y_validation, Y_test = np.split(Y, 3)"
   ]
  },
  {
   "cell_type": "code",
   "execution_count": null,
   "metadata": {},
   "outputs": [],
   "source": [
    "# Plot the decision boundary of a Keras model over a bi-dimensional dataset.\n",
    "\n",
    "from matplotlib.colors import ListedColormap\n",
    "\n",
    "\n",
    "def plot_boundary(model, points):\n",
    "    # Generate a grid of points over the data\n",
    "    RANGE = 0.55\n",
    "    x_mesh = np.arange(-RANGE, RANGE, 0.001)\n",
    "    y_mesh = np.arange(-RANGE, RANGE, 0.001)\n",
    "    grid_x, grid_y = np.meshgrid(x_mesh, y_mesh)\n",
    "    grid = np.c_[grid_x.ravel(), grid_y.ravel()]\n",
    "    # Classify points in the grid\n",
    "    classifications = model.predict(grid).argmax(axis=1)\n",
    "    classifications_grid = classifications.reshape(grid_x.shape)\n",
    "    # Trace the decision boundary\n",
    "    BLUE_AND_GREEN = ListedColormap(['#BBBBFF', '#BBFFBB'])\n",
    "    plt.contourf(grid_x, grid_y, classifications_grid, cmap=BLUE_AND_GREEN)\n",
    "\n",
    "\n",
    "def plot_data_by_label(input_variables, labels, label_selector, symbol):\n",
    "    points = input_variables[(labels == label_selector).flatten()]\n",
    "    plt.plot(points[:, 0], points[:, 1], symbol, markersize=4)\n",
    "\n",
    "\n",
    "def show_boundary(model, x, y, title=\"Decision boundary\"):\n",
    "    plot_boundary(model, x)\n",
    "    plot_data_by_label(x, y, 0, 'bs')\n",
    "    plot_data_by_label(x, y, 1, 'g^')\n",
    "    plt.gca().axes.xaxis.set_ticklabels([])\n",
    "    plt.gca().axes.yaxis.set_ticklabels([])\n",
    "    plt.title(title)\n",
    "    plt.ion()\n",
    "    plt.show()"
   ]
  },
  {
   "cell_type": "code",
   "execution_count": null,
   "metadata": {},
   "outputs": [],
   "source": [
    "# Plot the training loss and validation loss from a Keras history object.\n",
    "\n",
    "from matplotlib.colors import ListedColormap\n",
    "\n",
    "def show_losses(history):\n",
    "    plt.plot(history.history['loss'], label='Training set',\n",
    "             color='blue', linestyle='-')\n",
    "    plt.plot(history.history['val_loss'], label='Validation set',\n",
    "             color='green', linestyle='--')\n",
    "    plt.xlabel(\"Epochs\")\n",
    "    plt.ylabel(\"Loss\")\n",
    "    plt.xlim(0, len(history.history['loss']))\n",
    "    plt.legend()\n",
    "    plt.show()"
   ]
  },
  {
   "cell_type": "code",
   "execution_count": null,
   "metadata": {},
   "outputs": [],
   "source": [
    "from keras.models import Sequential\n",
    "from keras.layers import Dense\n",
    "from keras.optimizers import RMSprop\n",
    "from keras.utils import to_categorical\n",
    "\n",
    "Y_train_one_hot_encoded = to_categorical(Y_train)\n",
    "Y_validation_one_hot_encoded = to_categorical(Y_validation)\n",
    "\n",
    "model = Sequential()\n",
    "model.add(Dense(100, activation='sigmoid'))\n",
    "model.add(Dense(30, activation='sigmoid'))\n",
    "model.add(Dense(2, activation='softmax'))\n",
    "\n",
    "model.compile(loss='categorical_crossentropy',\n",
    "              optimizer=RMSprop(lr=0.001),\n",
    "              metrics=['accuracy'])\n",
    "\n",
    "history = model.fit(X_train, Y_train_one_hot_encoded,\n",
    "                    validation_data=(X_validation, Y_validation_one_hot_encoded),\n",
    "                    epochs=3, batch_size=25)"
   ]
  },
  {
   "cell_type": "code",
   "execution_count": null,
   "metadata": {
    "scrolled": true
   },
   "outputs": [],
   "source": [
    "%matplotlib inline\n",
    "import matplotlib.pyplot as plt"
   ]
  },
  {
   "cell_type": "code",
   "execution_count": null,
   "metadata": {},
   "outputs": [],
   "source": [
    "show_losses(history)"
   ]
  },
  {
   "cell_type": "code",
   "execution_count": null,
   "metadata": {
    "scrolled": true
   },
   "outputs": [],
   "source": [
    "show_boundary(model, X_train, Y_train, title=\"Training set\")"
   ]
  },
  {
   "cell_type": "code",
   "execution_count": null,
   "metadata": {
    "scrolled": false
   },
   "outputs": [],
   "source": [
    "show_boundary(model, X_validation, Y_validation, title=\"Validation set\")"
   ]
  },
  {
   "cell_type": "markdown",
   "metadata": {},
   "source": [
    "### L1 and L2 Regularization"
   ]
  },
  {
   "cell_type": "markdown",
   "metadata": {},
   "source": [
    "#### L1 in Action"
   ]
  },
  {
   "cell_type": "code",
   "execution_count": null,
   "metadata": {},
   "outputs": [],
   "source": [
    "from keras.regularizers import l1\n",
    "\n",
    "model = Sequential()\n",
    "model.add(Dense(100, activation='sigmoid', activity_regularizer=l1(0.0004)))\n",
    "model.add(Dense(30, activation='sigmoid', activity_regularizer=l1(0.0004)))\n",
    "model.add(Dense(2, activation='softmax'))\n",
    "\n",
    "model.compile(loss='categorical_crossentropy',\n",
    "              optimizer=RMSprop(lr=0.001),\n",
    "              metrics=['accuracy'])\n",
    "\n",
    "history = model.fit(X_train, Y_train_one_hot_encoded,\n",
    "                    validation_data=(X_validation, Y_validation_one_hot_encoded),\n",
    "                    epochs=3, batch_size=25)"
   ]
  },
  {
   "cell_type": "code",
   "execution_count": null,
   "metadata": {},
   "outputs": [],
   "source": [
    "show_losses(history)"
   ]
  },
  {
   "cell_type": "code",
   "execution_count": null,
   "metadata": {},
   "outputs": [],
   "source": [
    "show_boundary(model, X_train, Y_train, title=\"Training set\")"
   ]
  },
  {
   "cell_type": "code",
   "execution_count": null,
   "metadata": {},
   "outputs": [],
   "source": [
    "show_boundary(model, X_validation, Y_validation, title=\"Validation set\")"
   ]
  },
  {
   "cell_type": "markdown",
   "metadata": {},
   "source": [
    "#### Too Much of a Good Thing"
   ]
  },
  {
   "cell_type": "code",
   "execution_count": null,
   "metadata": {},
   "outputs": [],
   "source": [
    "model = Sequential()\n",
    "model.add(Dense(100, activation='sigmoid', activity_regularizer=l1(0.002)))\n",
    "model.add(Dense(30, activation='sigmoid', activity_regularizer=l1(0.0004)))\n",
    "model.add(Dense(2, activation='softmax'))\n",
    "\n",
    "model.compile(loss='categorical_crossentropy',\n",
    "              optimizer=RMSprop(lr=0.001),\n",
    "              metrics=['accuracy'])\n",
    "\n",
    "history = model.fit(X_train, Y_train_one_hot_encoded,\n",
    "                    validation_data=(X_validation, Y_validation_one_hot_encoded),\n",
    "                    epochs=3, batch_size=25)"
   ]
  },
  {
   "cell_type": "code",
   "execution_count": null,
   "metadata": {},
   "outputs": [],
   "source": [
    "show_losses(history)"
   ]
  },
  {
   "cell_type": "code",
   "execution_count": null,
   "metadata": {},
   "outputs": [],
   "source": [
    "show_boundary(model, X_train, Y_train, title=\"Training set\")"
   ]
  },
  {
   "cell_type": "code",
   "execution_count": null,
   "metadata": {},
   "outputs": [],
   "source": [
    "show_boundary(model, X_validation, Y_validation, title=\"Validation set\")"
   ]
  }
 ],
 "metadata": {
  "kernelspec": {
   "display_name": "Python 3",
   "language": "python",
   "name": "python3"
  },
  "language_info": {
   "codemirror_mode": {
    "name": "ipython",
    "version": 3
   },
   "file_extension": ".py",
   "mimetype": "text/x-python",
   "name": "python",
   "nbconvert_exporter": "python",
   "pygments_lexer": "ipython3",
   "version": "3.7.3"
  }
 },
 "nbformat": 4,
 "nbformat_minor": 2
}
