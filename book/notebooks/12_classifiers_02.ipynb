{
 "cells": [
  {
   "cell_type": "markdown",
   "metadata": {},
   "source": [
    "# Chapter 12: How Classifiers Work (2 of 2)"
   ]
  },
  {
   "cell_type": "markdown",
   "metadata": {},
   "source": [
    "The source code for this chapter is split over two notebooks. This is the second one, about the decision boundary and the model of neural networks."
   ]
  },
  {
   "cell_type": "markdown",
   "metadata": {},
   "source": [
    "## Neural Network"
   ]
  },
  {
   "cell_type": "code",
   "execution_count": null,
   "metadata": {},
   "outputs": [],
   "source": [
    "import numpy as np\n",
    "\n",
    "\n",
    "def sigmoid(z):\n",
    "    return 1 / (1 + np.exp(-z))\n",
    "\n",
    "\n",
    "def softmax(logits):\n",
    "    exponentials = np.exp(logits)\n",
    "    return exponentials / np.sum(exponentials, axis=1).reshape(-1, 1)\n",
    "\n",
    "\n",
    "def sigmoid_gradient(sigmoid):\n",
    "    return np.multiply(sigmoid, (1 - sigmoid))\n",
    "\n",
    "\n",
    "def loss(Y, y_hat):\n",
    "    return -np.sum(Y * np.log(y_hat)) / Y.shape[0]\n",
    "\n",
    "\n",
    "def prepend_bias(X):\n",
    "    return np.insert(X, 0, 1, axis=1)\n",
    "\n",
    "\n",
    "def forward(X, w1, w2):\n",
    "    h = sigmoid(np.matmul(prepend_bias(X), w1))\n",
    "    y_hat = softmax(np.matmul(prepend_bias(h), w2))\n",
    "    return (y_hat, h)\n",
    "\n",
    "\n",
    "def back(X, Y, y_hat, w2, h):\n",
    "    w2_gradient = np.matmul(prepend_bias(h).T, (y_hat - Y)) / X.shape[0]\n",
    "    w1_gradient = np.matmul(prepend_bias(X).T, np.matmul(y_hat - Y, w2[1:].T)\n",
    "                            * sigmoid_gradient(h)) / X.shape[0]\n",
    "    return (w1_gradient, w2_gradient)\n",
    "\n",
    "\n",
    "def classify(X, w1, w2):\n",
    "    y_hat, _ = forward(X, w1, w2)\n",
    "    labels = np.argmax(y_hat, axis=1)\n",
    "    return labels.reshape(-1, 1)\n",
    "\n",
    "\n",
    "def initialize_weights(n_input_variables, n_hidden_nodes, n_classes):\n",
    "    w1_rows = n_input_variables + 1\n",
    "    w1 = np.random.randn(w1_rows, n_hidden_nodes) * np.sqrt(1 / w1_rows)\n",
    "\n",
    "    w2_rows = n_hidden_nodes + 1\n",
    "    w2 = np.random.randn(w2_rows, n_classes) * np.sqrt(1 / w2_rows)\n",
    "\n",
    "    return (w1, w2)\n",
    "\n",
    "\n",
    "def report(iteration, X_train, Y_train, X_test, Y_test, w1, w2):\n",
    "    y_hat, _ = forward(X_train, w1, w2)\n",
    "    training_loss = loss(Y_train, y_hat)\n",
    "    classifications = classify(X_test, w1, w2)\n",
    "    accuracy = np.average(classifications == Y_test) * 100.0\n",
    "    print(\"Iteration: %5d, Loss: %.8f, Accuracy: %.2f%%\" %\n",
    "          (iteration, training_loss, accuracy))\n",
    "\n",
    "\n",
    "def train(X_train, Y_train, X_test, Y_test, n_hidden_nodes, iterations, lr):\n",
    "    n_input_variables = X_train.shape[1]\n",
    "    n_classes = Y_train.shape[1]\n",
    "    w1, w2 = initialize_weights(n_input_variables, n_hidden_nodes, n_classes)\n",
    "    for iteration in range(iterations):\n",
    "        y_hat, h = forward(X_train, w1, w2)\n",
    "        w1_gradient, w2_gradient = back(X_train, Y_train, y_hat, w2, h)\n",
    "        w1 = w1 - (w1_gradient * lr)\n",
    "        w2 = w2 - (w2_gradient * lr)\n",
    "        report(iteration, X_train, Y_train, X_test, Y_test, w1, w2)\n",
    "    return (w1, w2)"
   ]
  },
  {
   "cell_type": "markdown",
   "metadata": {},
   "source": [
    "## Load Data"
   ]
  },
  {
   "cell_type": "markdown",
   "metadata": {},
   "source": [
    "Execute one of the next three cells, to load one of the three datasets."
   ]
  },
  {
   "cell_type": "code",
   "execution_count": null,
   "metadata": {},
   "outputs": [],
   "source": [
    "x1, x2, y = np.loadtxt('linearly_separable.txt', skiprows=1, unpack=True)"
   ]
  },
  {
   "cell_type": "code",
   "execution_count": null,
   "metadata": {},
   "outputs": [],
   "source": [
    "x1, x2, y = np.loadtxt('non_linearly_separable.txt', skiprows=1, unpack=True)"
   ]
  },
  {
   "cell_type": "code",
   "execution_count": null,
   "metadata": {},
   "outputs": [],
   "source": [
    "x1, x2, y = np.loadtxt('circles.txt', skiprows=1, unpack=True)"
   ]
  },
  {
   "cell_type": "markdown",
   "metadata": {},
   "source": [
    "## Train Neural Network"
   ]
  },
  {
   "cell_type": "code",
   "execution_count": null,
   "metadata": {},
   "outputs": [],
   "source": [
    "def one_hot_encode(Y):\n",
    "    n_labels = Y.shape[0]\n",
    "    result = np.zeros((n_labels, 2))\n",
    "    for i in range(n_labels):\n",
    "        result[i][Y[i]] = 1\n",
    "    return result\n",
    "\n",
    "\n",
    "X_train = X_test = np.column_stack((x1, x2))\n",
    "Y_train_unencoded = Y_test = y.astype(int).reshape(-1, 1)\n",
    "Y_train = one_hot_encode(Y_train_unencoded)\n",
    "
    "w1, w2 = train(X_train, Y_train,\n",
    "                  X_test, Y_test,\n",
    "                  n_hidden_nodes=10, iterations=100000, lr=0.3)"
   ]
  },
  {
   "cell_type": "markdown",
   "metadata": {},
   "source": [
    "# Plot Decision Boundary"
   ]
  },
  {
   "cell_type": "code",
   "execution_count": null,
   "metadata": {},
   "outputs": [],
   "source": [
    "%matplotlib inline\n",
    "\n",
    "import matplotlib.pyplot as plt\n",
    "from matplotlib.colors import ListedColormap\n",
    "\n",
    "# Generate a mesh over one-dimensional data\n",
    "# (The mesh() and plot_boundary() functionality were inspired by the\n",
    "# documentation of the BSD-licensed scikit-learn library.)\n",
    "def mesh(values):\n",
    "    range = values.max() - values.min()\n",
    "    padding_percent = 5\n",
    "    padding = range * padding_percent * 0.01\n",
    "    resolution = 1000\n",
    "    interval = (range + 2 * range * padding) / resolution\n",
    "    return np.arange(values.min() - padding, values.max() + padding, interval)\n",
    "\n",
    "\n",
    "def plot_boundary(points, w1, w2):\n",
    "    print(\"Calculating boundary...\")\n",
    "    # Generate a grid of points over the data\n",
    "    x_mesh = mesh(points[:, 0])\n",
    "    y_mesh = mesh(points[:, 1])\n",
    "    grid_x, grid_y = np.meshgrid(x_mesh, y_mesh)\n",
    "    grid = np.c_[grid_x.ravel(), grid_y.ravel()]\n",
    "    # Classify points in the grid\n",
    "    classifications = classify(grid, w1, w2).reshape(grid_x.shape)\n",
    "    # Trace the decision boundary\n",
    "    BLUE_AND_GREEN = ListedColormap(['#BBBBFF', '#BBFFBB'])\n",
    "    plt.contourf(grid_x, grid_y, classifications, cmap=BLUE_AND_GREEN)\n",
    "\n",
    "\n",
    "def plot_data_by_label(input_variables, labels, label_selector, symbol):\n",
    "    points = input_variables[(labels == label_selector).flatten()]\n",
    "    plt.plot(points[:, 0], points[:, 1], symbol, markersize=4)\n",
    "\n",
    "\n",
    "plot_boundary(X_train, w1, w2)\n",
    "plot_data_by_label(X_train, Y_train_unencoded, 0, 'bs')\n",
    "plot_data_by_label(X_train, Y_train_unencoded, 1, 'g^')\n",
    "plt.gca().axes.xaxis.set_ticklabels([])\n",
    "plt.gca().axes.yaxis.set_ticklabels([])\n",
    "plt.show()"
   ]
  },
  {
   "cell_type": "markdown",
   "metadata": {},
   "source": [
    "# Plot Model"
   ]
  },
  {
   "cell_type": "code",
   "execution_count": null,
   "metadata": {},
   "outputs": [],
   "source": [
    "from matplotlib import cm\n",
    "from mpl_toolkits.mplot3d import Axes3D\n",
    "\n",
    "np.random.seed(123)  # Make this code deterministic\n",
    "\n",
    "def one_hot_encode(Y):\n",
    "    n_labels = Y.shape[0]\n",
    "    result = np.zeros((n_labels, 2))\n",
    "    for i in range(n_labels):\n",
    "        result[i][Y[i]] = 1\n",
    "    return result\n",
    "\n",
    "# Plot the axes\n",
    "ax = plt.figure().gca(projection=\"3d\")\n",
    "ax.set_zticks([0, 0.5, 1])\n",
    "ax.set_xlabel(\"Input A\")\n",
    "ax.set_ylabel(\"Input B\")\n",
    "ax.set_zlabel(\"ŷ\")\n",
    "\n",
    "# Plot the data points\n",
    "blue_squares = X_train[(Y_train_unencoded == 0).flatten()]\n",
    "ax.scatter(blue_squares[:, 0], blue_squares[:, 1], 0, c='b', marker='s')\n",
    "green_triangles = X_train[(Y_train_unencoded == 1).flatten()]\n",
    "ax.scatter(green_triangles[:, 0], green_triangles[:, 1], 1, c='g', marker='^')\n",
    "\n",
    "# Plot the model\n",
    "MARGIN = 0.5\n",
    "MESH_SIZE = 1000  # This model has a lot of detail, so we need a hi-res mesh\n",
    "x, y = np.meshgrid(np.linspace(x1.min() - MARGIN, x1.max() + MARGIN, MESH_SIZE),\n",
    "                   np.linspace(x2.min() - MARGIN, x2.max() + MARGIN, MESH_SIZE))\n",
    "grid = zip(np.ravel(x), np.ravel(y))\n",
    "# Calculate all the outputs of forward(), in the format (y_hat, h):\n",
    "forwards = [forward(np.column_stack(([i], [j])), w1, w2) for i, j in grid]\n",
    "# For each (y_hat, y), keep only the second column of y_hat:\n",
    "z = np.array([y_hat for y_hat, h in forwards])[:, 0, 1]\n",
    "z = z.reshape((MESH_SIZE, MESH_SIZE))\n",
    "ax.plot_surface(x, y, z, alpha=0.75, cmap=cm.winter,\n",
    "                linewidth=0, antialiased=True)\n",
    "plt.show()"
   ]
  }
 ],
 "metadata": {
  "kernelspec": {
   "display_name": "Python 3",
   "language": "python",
   "name": "python3"
  },
  "language_info": {
   "codemirror_mode": {
    "name": "ipython",
    "version": 3
   },
   "file_extension": ".py",
   "mimetype": "text/x-python",
   "name": "python",
   "nbconvert_exporter": "python",
   "pygments_lexer": "ipython3",
   "version": "3.7.6"
  }
 },
 "nbformat": 4,
 "nbformat_minor": 2
}
